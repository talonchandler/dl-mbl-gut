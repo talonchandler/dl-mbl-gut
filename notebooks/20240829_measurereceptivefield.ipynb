{
 "cells": [
  {
   "cell_type": "code",
   "execution_count": 2,
   "metadata": {},
   "outputs": [],
   "source": [
    "def compute_receptive_field(depth, kernel_size, downsample_factor):\n",
    "    fov = 1\n",
    "    downsample_factor_prod = 1\n",
    "    # encoder\n",
    "    for layer in range(depth - 1):\n",
    "        # two convolutions, each adds (kernel size - 1 ) * current downsampling level\n",
    "        fov = fov + 2 * (kernel_size - 1) * downsample_factor_prod\n",
    "        # downsampling multiplies by downsample factor\n",
    "        fov = fov * downsample_factor\n",
    "        downsample_factor_prod *= downsample_factor\n",
    "    # bottom layer just two convs\n",
    "    fov = fov + 2 * (kernel_size - 1) * downsample_factor_prod\n",
    "\n",
    "    # decoder\n",
    "    for layer in range(0, depth - 1)[::-1]:\n",
    "        # upsample\n",
    "        downsample_factor_prod /= downsample_factor\n",
    "        # two convolutions, each adds (kernel size - 1) * current downsampling level\n",
    "        fov = fov + 2 * (kernel_size - 1) * downsample_factor_prod\n",
    "\n",
    "    return fov"
   ]
  },
  {
   "cell_type": "code",
   "execution_count": 3,
   "metadata": {},
   "outputs": [
    {
     "data": {
      "text/plain": [
       "164.0"
      ]
     },
     "execution_count": 3,
     "metadata": {},
     "output_type": "execute_result"
    }
   ],
   "source": [
    "depth = 4\n",
    "kernel_size = 3\n",
    "downsample_factor = 2\n",
    "compute_receptive_field(depth, kernel_size, downsample_factor)"
   ]
  },
  {
   "cell_type": "code",
   "execution_count": null,
   "metadata": {},
   "outputs": [],
   "source": []
  }
 ],
 "metadata": {
  "kernelspec": {
   "display_name": "gutsy",
   "language": "python",
   "name": "python3"
  },
  "language_info": {
   "codemirror_mode": {
    "name": "ipython",
    "version": 3
   },
   "file_extension": ".py",
   "mimetype": "text/x-python",
   "name": "python",
   "nbconvert_exporter": "python",
   "pygments_lexer": "ipython3",
   "version": "3.12.5"
  }
 },
 "nbformat": 4,
 "nbformat_minor": 2
}

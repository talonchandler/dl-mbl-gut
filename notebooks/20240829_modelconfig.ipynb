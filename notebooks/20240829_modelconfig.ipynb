{
 "cells": [
  {
   "cell_type": "code",
   "execution_count": 10,
   "metadata": {},
   "outputs": [],
   "source": [
    "import sys\n",
    "import os\n",
    "\n",
    "# Add the parent folder to the Python path\n",
    "sys.path.append('/home/S-av/dl-mbl-gut/')\n",
    "\n",
    "import torch.nn as nn\n",
    "from scripts.model import UNet\n",
    "import iohub\n",
    "from torch_receptive_field import receptive_field, receptive_field_visualization_2d #from https://github.com/Fangyh09/pytorch-receptive-field\n"
   ]
  },
  {
   "cell_type": "code",
   "execution_count": 11,
   "metadata": {},
   "outputs": [
    {
     "name": "stdout",
     "output_type": "stream",
     "text": [
      "\u001b[0;31mType:\u001b[0m        module\n",
      "\u001b[0;31mString form:\u001b[0m <module 'iohub' from '/home/S-av/miniforge3/envs/gutsy/lib/python3.12/site-packages/iohub/__init__.py'>\n",
      "\u001b[0;31mFile:\u001b[0m        ~/miniforge3/envs/gutsy/lib/python3.12/site-packages/iohub/__init__.py\n",
      "\u001b[0;31mDocstring:\u001b[0m  \n",
      "iohub\n",
      "N-dimensional bioimaging data I/O with OME metadata in Python"
     ]
    }
   ],
   "source": [
    "iohub.open_ome_zarr\n",
    "\n",
    "# receptive_field_dict = receptive_field(model, (3, 256, 256))\n",
    "# image_path = \"./examples/example.jpg\"\n",
    "# output_path_without_extension = \"./examples/example_receptive_field_2d\"\n",
    "# receptive_field_visualization_2d(receptive_field_dict, image_path, output_path_without_extension)\n"
   ]
  },
  {
   "cell_type": "code",
   "execution_count": 13,
   "metadata": {},
   "outputs": [
    {
     "ename": "FileNotFoundError",
     "evalue": "Dataset directory not found at /mnt/efs/dlmbl/G-bs/data/all-downsample-2x.zarr/20230311/infected/1/.",
     "output_type": "error",
     "traceback": [
      "\u001b[0;31m---------------------------------------------------------------------------\u001b[0m",
      "\u001b[0;31mFileNotFoundError\u001b[0m                         Traceback (most recent call last)",
      "Cell \u001b[0;32mIn[13], line 1\u001b[0m\n\u001b[0;32m----> 1\u001b[0m bigim \u001b[38;5;241m=\u001b[39m \u001b[43miohub\u001b[49m\u001b[38;5;241;43m.\u001b[39;49m\u001b[43mopen_ome_zarr\u001b[49m\u001b[43m(\u001b[49m\u001b[38;5;124;43m'\u001b[39;49m\u001b[38;5;124;43m/mnt/efs/dlmbl/G-bs/data/all-downsample-2x.zarr/20230311/infected/1/\u001b[39;49m\u001b[38;5;124;43m'\u001b[39;49m\u001b[43m)\u001b[49m\n",
      "File \u001b[0;32m~/miniforge3/envs/gutsy/lib/python3.12/site-packages/iohub/ngff.py:1647\u001b[0m, in \u001b[0;36mopen_ome_zarr\u001b[0;34m(store_path, layout, mode, channel_names, axes, version, synchronizer, **kwargs)\u001b[0m\n\u001b[1;32m   1645\u001b[0m \u001b[38;5;28;01melse\u001b[39;00m:\n\u001b[1;32m   1646\u001b[0m     \u001b[38;5;28;01mraise\u001b[39;00m \u001b[38;5;167;01mValueError\u001b[39;00m(\u001b[38;5;124mf\u001b[39m\u001b[38;5;124m\"\u001b[39m\u001b[38;5;124mInvalid persistence mode \u001b[39m\u001b[38;5;124m'\u001b[39m\u001b[38;5;132;01m{\u001b[39;00mmode\u001b[38;5;132;01m}\u001b[39;00m\u001b[38;5;124m'\u001b[39m\u001b[38;5;124m.\u001b[39m\u001b[38;5;124m\"\u001b[39m)\n\u001b[0;32m-> 1647\u001b[0m root \u001b[38;5;241m=\u001b[39m \u001b[43m_open_store\u001b[49m\u001b[43m(\u001b[49m\u001b[43mstore_path\u001b[49m\u001b[43m,\u001b[49m\u001b[43m \u001b[49m\u001b[43mmode\u001b[49m\u001b[43m,\u001b[49m\u001b[43m \u001b[49m\u001b[43mversion\u001b[49m\u001b[43m,\u001b[49m\u001b[43m \u001b[49m\u001b[43msynchronizer\u001b[49m\u001b[43m)\u001b[49m\n\u001b[1;32m   1648\u001b[0m meta_keys \u001b[38;5;241m=\u001b[39m root\u001b[38;5;241m.\u001b[39mattrs\u001b[38;5;241m.\u001b[39mkeys() \u001b[38;5;28;01mif\u001b[39;00m parse_meta \u001b[38;5;28;01melse\u001b[39;00m []\n\u001b[1;32m   1649\u001b[0m \u001b[38;5;28;01mif\u001b[39;00m layout \u001b[38;5;241m==\u001b[39m \u001b[38;5;124m\"\u001b[39m\u001b[38;5;124mauto\u001b[39m\u001b[38;5;124m\"\u001b[39m:\n",
      "File \u001b[0;32m~/miniforge3/envs/gutsy/lib/python3.12/site-packages/iohub/ngff.py:52\u001b[0m, in \u001b[0;36m_open_store\u001b[0;34m(store_path, mode, version, synchronizer)\u001b[0m\n\u001b[1;32m     45\u001b[0m \u001b[38;5;28;01mdef\u001b[39;00m \u001b[38;5;21m_open_store\u001b[39m(\n\u001b[1;32m     46\u001b[0m     store_path: StrOrBytesPath,\n\u001b[1;32m     47\u001b[0m     mode: Literal[\u001b[38;5;124m\"\u001b[39m\u001b[38;5;124mr\u001b[39m\u001b[38;5;124m\"\u001b[39m, \u001b[38;5;124m\"\u001b[39m\u001b[38;5;124mr+\u001b[39m\u001b[38;5;124m\"\u001b[39m, \u001b[38;5;124m\"\u001b[39m\u001b[38;5;124ma\u001b[39m\u001b[38;5;124m\"\u001b[39m, \u001b[38;5;124m\"\u001b[39m\u001b[38;5;124mw\u001b[39m\u001b[38;5;124m\"\u001b[39m, \u001b[38;5;124m\"\u001b[39m\u001b[38;5;124mw-\u001b[39m\u001b[38;5;124m\"\u001b[39m],\n\u001b[1;32m     48\u001b[0m     version: Literal[\u001b[38;5;124m\"\u001b[39m\u001b[38;5;124m0.1\u001b[39m\u001b[38;5;124m\"\u001b[39m, \u001b[38;5;124m\"\u001b[39m\u001b[38;5;124m0.4\u001b[39m\u001b[38;5;124m\"\u001b[39m],\n\u001b[1;32m     49\u001b[0m     synchronizer\u001b[38;5;241m=\u001b[39m\u001b[38;5;28;01mNone\u001b[39;00m,\n\u001b[1;32m     50\u001b[0m ):\n\u001b[1;32m     51\u001b[0m     \u001b[38;5;28;01mif\u001b[39;00m \u001b[38;5;129;01mnot\u001b[39;00m os\u001b[38;5;241m.\u001b[39mpath\u001b[38;5;241m.\u001b[39misdir(store_path) \u001b[38;5;129;01mand\u001b[39;00m mode \u001b[38;5;129;01min\u001b[39;00m (\u001b[38;5;124m\"\u001b[39m\u001b[38;5;124mr\u001b[39m\u001b[38;5;124m\"\u001b[39m, \u001b[38;5;124m\"\u001b[39m\u001b[38;5;124mr+\u001b[39m\u001b[38;5;124m\"\u001b[39m):\n\u001b[0;32m---> 52\u001b[0m         \u001b[38;5;28;01mraise\u001b[39;00m \u001b[38;5;167;01mFileNotFoundError\u001b[39;00m(\n\u001b[1;32m     53\u001b[0m             \u001b[38;5;124mf\u001b[39m\u001b[38;5;124m\"\u001b[39m\u001b[38;5;124mDataset directory not found at \u001b[39m\u001b[38;5;132;01m{\u001b[39;00mstore_path\u001b[38;5;132;01m}\u001b[39;00m\u001b[38;5;124m.\u001b[39m\u001b[38;5;124m\"\u001b[39m\n\u001b[1;32m     54\u001b[0m         )\n\u001b[1;32m     55\u001b[0m     \u001b[38;5;28;01mif\u001b[39;00m version \u001b[38;5;241m!=\u001b[39m \u001b[38;5;124m\"\u001b[39m\u001b[38;5;124m0.4\u001b[39m\u001b[38;5;124m\"\u001b[39m:\n\u001b[1;32m     56\u001b[0m         logging\u001b[38;5;241m.\u001b[39mwarning(\n\u001b[1;32m     57\u001b[0m             \u001b[38;5;124m\"\u001b[39m\u001b[38;5;130;01m\\n\u001b[39;00m\u001b[38;5;124m\"\u001b[39m\u001b[38;5;241m.\u001b[39mjoin(\n\u001b[1;32m     58\u001b[0m                 \u001b[38;5;124m\"\u001b[39m\u001b[38;5;124mIOHub is only tested against OME-NGFF v0.4.\u001b[39m\u001b[38;5;124m\"\u001b[39m,\n\u001b[1;32m     59\u001b[0m                 \u001b[38;5;124mf\u001b[39m\u001b[38;5;124m\"\u001b[39m\u001b[38;5;124mRequested version \u001b[39m\u001b[38;5;132;01m{\u001b[39;00mversion\u001b[38;5;132;01m}\u001b[39;00m\u001b[38;5;124m may not work properly.\u001b[39m\u001b[38;5;124m\"\u001b[39m,\n\u001b[1;32m     60\u001b[0m             )\n\u001b[1;32m     61\u001b[0m         )\n",
      "\u001b[0;31mFileNotFoundError\u001b[0m: Dataset directory not found at /mnt/efs/dlmbl/G-bs/data/all-downsample-2x.zarr/20230311/infected/1/."
     ]
    }
   ],
   "source": [
    "bigim = iohub.open_ome_zarr('/mnt/efs/dlmbl/G-bs/data/all-downsample-2x.zarr/20230311/infected/1/')"
   ]
  },
  {
   "cell_type": "code",
   "execution_count": null,
   "metadata": {},
   "outputs": [],
   "source": [
    "bigim = napari_ome_zarr"
   ]
  },
  {
   "cell_type": "code",
   "execution_count": null,
   "metadata": {},
   "outputs": [],
   "source": [
    "model = UNet(\n",
    "    depth = 4,\n",
    "    in_channels = 1,\n",
    "    out_channels = 1,\n",
    "    final_activation = nn.Sigmoid(),\n",
    "    num_fmaps = 64,\n",
    "    fmap_inc_factor = 2,\n",
    "    downsample_factor = 2,\n",
    "    kernel_size = 3,\n",
    "    padding = \"valid\",\n",
    "    upsample_mode = \"nearest\",\n",
    "    ndim = 3,\n",
    "    )"
   ]
  },
  {
   "cell_type": "code",
   "execution_count": null,
   "metadata": {},
   "outputs": [],
   "source": [
    "\n",
    "receptive_field(model, input_size=(1, H, W))"
   ]
  }
 ],
 "metadata": {
  "kernelspec": {
   "display_name": "Python 3",
   "language": "python",
   "name": "python3"
  },
  "language_info": {
   "codemirror_mode": {
    "name": "ipython",
    "version": 3
   },
   "file_extension": ".py",
   "mimetype": "text/x-python",
   "name": "python",
   "nbconvert_exporter": "python",
   "pygments_lexer": "ipython3",
   "version": "3.12.5"
  }
 },
 "nbformat": 4,
 "nbformat_minor": 2
}
